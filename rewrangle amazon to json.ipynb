{
 "cells": [
  {
   "cell_type": "code",
   "execution_count": 1,
   "metadata": {},
   "outputs": [],
   "source": [
    "import json\n",
    "\n",
    "import pandas as pd"
   ]
  },
  {
   "cell_type": "code",
   "execution_count": 2,
   "metadata": {},
   "outputs": [
    {
     "data": {
      "text/html": [
       "<div>\n",
       "<style scoped>\n",
       "    .dataframe tbody tr th:only-of-type {\n",
       "        vertical-align: middle;\n",
       "    }\n",
       "\n",
       "    .dataframe tbody tr th {\n",
       "        vertical-align: top;\n",
       "    }\n",
       "\n",
       "    .dataframe thead th {\n",
       "        text-align: right;\n",
       "    }\n",
       "</style>\n",
       "<table border=\"1\" class=\"dataframe\">\n",
       "  <thead>\n",
       "    <tr style=\"text-align: right;\">\n",
       "      <th></th>\n",
       "      <th>Name</th>\n",
       "      <th>Price</th>\n",
       "      <th>Category</th>\n",
       "      <th>CategorySorted</th>\n",
       "    </tr>\n",
       "  </thead>\n",
       "  <tbody>\n",
       "    <tr>\n",
       "      <th>0</th>\n",
       "      <td>Interactive Data Viz</td>\n",
       "      <td>39.71</td>\n",
       "      <td>Books</td>\n",
       "      <td>1</td>\n",
       "    </tr>\n",
       "    <tr>\n",
       "      <th>1</th>\n",
       "      <td>Mastering PyCharm</td>\n",
       "      <td>35.99</td>\n",
       "      <td>Books</td>\n",
       "      <td>2</td>\n",
       "    </tr>\n",
       "    <tr>\n",
       "      <th>2</th>\n",
       "      <td>SQL Cookbook</td>\n",
       "      <td>33.29</td>\n",
       "      <td>Books</td>\n",
       "      <td>3</td>\n",
       "    </tr>\n",
       "    <tr>\n",
       "      <th>3</th>\n",
       "      <td>Pop up Greeting card</td>\n",
       "      <td>7.99</td>\n",
       "      <td>Books</td>\n",
       "      <td>4</td>\n",
       "    </tr>\n",
       "    <tr>\n",
       "      <th>4</th>\n",
       "      <td>Levi's 541 Athletic fit jeans</td>\n",
       "      <td>54.99</td>\n",
       "      <td>Clothing</td>\n",
       "      <td>5</td>\n",
       "    </tr>\n",
       "  </tbody>\n",
       "</table>\n",
       "</div>"
      ],
      "text/plain": [
       "                            Name  Price  Category  CategorySorted\n",
       "0           Interactive Data Viz  39.71     Books               1\n",
       "1              Mastering PyCharm  35.99     Books               2\n",
       "2                   SQL Cookbook  33.29     Books               3\n",
       "3           Pop up Greeting card   7.99     Books               4\n",
       "4  Levi's 541 Athletic fit jeans  54.99  Clothing               5"
      ]
     },
     "execution_count": 2,
     "metadata": {},
     "output_type": "execute_result"
    }
   ],
   "source": [
    "df = pd.read_csv('AmazonProducts.csv')\n",
    "df.head()"
   ]
  },
  {
   "cell_type": "code",
   "execution_count": 3,
   "metadata": {},
   "outputs": [],
   "source": [
    "records = df.to_dict('records')"
   ]
  },
  {
   "cell_type": "code",
   "execution_count": 4,
   "metadata": {},
   "outputs": [
    {
     "data": {
      "text/plain": [
       "[{'Category': 'Books',\n",
       "  'CategorySorted': 1,\n",
       "  'Name': 'Interactive Data Viz',\n",
       "  'Price': 39.71},\n",
       " {'Category': 'Books',\n",
       "  'CategorySorted': 2,\n",
       "  'Name': 'Mastering PyCharm',\n",
       "  'Price': 35.99},\n",
       " {'Category': 'Books',\n",
       "  'CategorySorted': 3,\n",
       "  'Name': 'SQL Cookbook',\n",
       "  'Price': 33.29},\n",
       " {'Category': 'Books',\n",
       "  'CategorySorted': 4,\n",
       "  'Name': 'Pop up Greeting card',\n",
       "  'Price': 7.99},\n",
       " {'Category': 'Clothing',\n",
       "  'CategorySorted': 5,\n",
       "  'Name': \"Levi's 541 Athletic fit jeans\",\n",
       "  'Price': 54.99},\n",
       " {'Category': 'Electronics',\n",
       "  'CategorySorted': 6,\n",
       "  'Name': 'Replacement laptop keyboard',\n",
       "  'Price': 56.05},\n",
       " {'Category': 'Electronics',\n",
       "  'CategorySorted': 7,\n",
       "  'Name': 'Pixel 2 headphone adapter',\n",
       "  'Price': 19.99},\n",
       " {'Category': 'Electronics',\n",
       "  'CategorySorted': 8,\n",
       "  'Name': 'Bluetooth Ear Tips',\n",
       "  'Price': 9.99},\n",
       " {'Category': 'Electronics',\n",
       "  'CategorySorted': 9,\n",
       "  'Name': 'PopSockets Collapsible Grip & stand for phone',\n",
       "  'Price': 9.89},\n",
       " {'Category': 'Food',\n",
       "  'CategorySorted': 10,\n",
       "  'Name': '4.4 lbs brown rice',\n",
       "  'Price': 34.82},\n",
       " {'Category': 'Food',\n",
       "  'CategorySorted': 11,\n",
       "  'Name': 'Melatonin',\n",
       "  'Price': 8.35},\n",
       " {'Category': 'House Items',\n",
       "  'CategorySorted': 12,\n",
       "  'Name': 'Garage door opener',\n",
       "  'Price': 24.5},\n",
       " {'Category': 'House Items',\n",
       "  'CategorySorted': 13,\n",
       "  'Name': 'Angler broom & dust pan',\n",
       "  'Price': 19.99},\n",
       " {'Category': 'House Items',\n",
       "  'CategorySorted': 14,\n",
       "  'Name': 'LED 40 Watt light bulbs',\n",
       "  'Price': 16.99},\n",
       " {'Category': 'House Items',\n",
       "  'CategorySorted': 15,\n",
       "  'Name': 'Deodorant 4 pk',\n",
       "  'Price': 16.38},\n",
       " {'Category': 'House Items',\n",
       "  'CategorySorted': 16,\n",
       "  'Name': 'Dog poop bags',\n",
       "  'Price': 15.95},\n",
       " {'Category': 'House Items',\n",
       "  'CategorySorted': 17,\n",
       "  'Name': 'Sensodyne toothpaste',\n",
       "  'Price': 14.76},\n",
       " {'Category': 'House Items',\n",
       "  'CategorySorted': 18,\n",
       "  'Name': 'Laundry Hamper',\n",
       "  'Price': 14.26},\n",
       " {'Category': 'House Items',\n",
       "  'CategorySorted': 19,\n",
       "  'Name': 'Dishwasher tablets',\n",
       "  'Price': 10.39},\n",
       " {'Category': 'House Items',\n",
       "  'CategorySorted': 20,\n",
       "  'Name': 'Massage Lacross Balls',\n",
       "  'Price': 9.99},\n",
       " {'Category': 'House Items',\n",
       "  'CategorySorted': 21,\n",
       "  'Name': 'Ethernet cable',\n",
       "  'Price': 7.49},\n",
       " {'Category': 'House Items',\n",
       "  'CategorySorted': 22,\n",
       "  'Name': 'Shoelaces',\n",
       "  'Price': 7.0},\n",
       " {'Category': 'House Items',\n",
       "  'CategorySorted': 23,\n",
       "  'Name': 'Kitchen Trash Bags',\n",
       "  'Price': 5.24}]"
      ]
     },
     "execution_count": 4,
     "metadata": {},
     "output_type": "execute_result"
    }
   ],
   "source": [
    "records"
   ]
  },
  {
   "cell_type": "code",
   "execution_count": 5,
   "metadata": {},
   "outputs": [],
   "source": [
    "with open('Amazon.json', 'w') as f:\n",
    "    json.dump(records, f)"
   ]
  }
 ],
 "metadata": {
  "kernelspec": {
   "display_name": "Python [conda env:datascience]",
   "language": "python",
   "name": "conda-env-datascience-py"
  },
  "language_info": {
   "codemirror_mode": {
    "name": "ipython",
    "version": 3
   },
   "file_extension": ".py",
   "mimetype": "text/x-python",
   "name": "python",
   "nbconvert_exporter": "python",
   "pygments_lexer": "ipython3",
   "version": "3.6.4"
  },
  "varInspector": {
   "cols": {
    "lenName": 16,
    "lenType": 16,
    "lenVar": 40
   },
   "kernels_config": {
    "python": {
     "delete_cmd_postfix": "",
     "delete_cmd_prefix": "del ",
     "library": "var_list.py",
     "varRefreshCmd": "print(var_dic_list())"
    },
    "r": {
     "delete_cmd_postfix": ") ",
     "delete_cmd_prefix": "rm(",
     "library": "var_list.r",
     "varRefreshCmd": "cat(var_dic_list()) "
    }
   },
   "types_to_exclude": [
    "module",
    "function",
    "builtin_function_or_method",
    "instance",
    "_Feature"
   ],
   "window_display": false
  }
 },
 "nbformat": 4,
 "nbformat_minor": 2
}
