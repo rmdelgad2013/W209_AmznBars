{
 "cells": [
  {
   "cell_type": "code",
   "execution_count": 1,
   "metadata": {},
   "outputs": [],
   "source": [
    "import json\n",
    "\n",
    "import pandas as pd"
   ]
  },
  {
   "cell_type": "code",
   "execution_count": 2,
   "metadata": {},
   "outputs": [
    {
     "data": {
      "text/html": [
       "<div>\n",
       "<style scoped>\n",
       "    .dataframe tbody tr th:only-of-type {\n",
       "        vertical-align: middle;\n",
       "    }\n",
       "\n",
       "    .dataframe tbody tr th {\n",
       "        vertical-align: top;\n",
       "    }\n",
       "\n",
       "    .dataframe thead th {\n",
       "        text-align: right;\n",
       "    }\n",
       "</style>\n",
       "<table border=\"1\" class=\"dataframe\">\n",
       "  <thead>\n",
       "    <tr style=\"text-align: right;\">\n",
       "      <th></th>\n",
       "      <th>Name</th>\n",
       "      <th>Price</th>\n",
       "    </tr>\n",
       "  </thead>\n",
       "  <tbody>\n",
       "    <tr>\n",
       "      <th>0</th>\n",
       "      <td>Interactive Data Viz</td>\n",
       "      <td>39.71</td>\n",
       "    </tr>\n",
       "    <tr>\n",
       "      <th>1</th>\n",
       "      <td>Bluetooth Ear Tips</td>\n",
       "      <td>9.99</td>\n",
       "    </tr>\n",
       "    <tr>\n",
       "      <th>2</th>\n",
       "      <td>Pop up Greeting card</td>\n",
       "      <td>7.99</td>\n",
       "    </tr>\n",
       "    <tr>\n",
       "      <th>3</th>\n",
       "      <td>Laundry Hamper</td>\n",
       "      <td>14.26</td>\n",
       "    </tr>\n",
       "    <tr>\n",
       "      <th>4</th>\n",
       "      <td>Shoelaces</td>\n",
       "      <td>7.00</td>\n",
       "    </tr>\n",
       "  </tbody>\n",
       "</table>\n",
       "</div>"
      ],
      "text/plain": [
       "                   Name  Price\n",
       "0  Interactive Data Viz  39.71\n",
       "1    Bluetooth Ear Tips   9.99\n",
       "2  Pop up Greeting card   7.99\n",
       "3        Laundry Hamper  14.26\n",
       "4             Shoelaces   7.00"
      ]
     },
     "execution_count": 2,
     "metadata": {},
     "output_type": "execute_result"
    }
   ],
   "source": [
    "df = pd.read_csv('AmazonProducts.csv')\n",
    "df.head()"
   ]
  },
  {
   "cell_type": "code",
   "execution_count": 3,
   "metadata": {},
   "outputs": [],
   "source": [
    "records = df.to_dict('records')"
   ]
  },
  {
   "cell_type": "code",
   "execution_count": 4,
   "metadata": {},
   "outputs": [
    {
     "data": {
      "text/plain": [
       "[{'Name': 'Interactive Data Viz', 'Price': 39.71},\n",
       " {'Name': 'Bluetooth Ear Tips', 'Price': 9.99},\n",
       " {'Name': 'Pop up Greeting card', 'Price': 7.99},\n",
       " {'Name': 'Laundry Hamper', 'Price': 14.26},\n",
       " {'Name': 'Shoelaces', 'Price': 7.0},\n",
       " {'Name': 'Kitchen Trash Bags', 'Price': 5.24},\n",
       " {'Name': 'Melatonin', 'Price': 8.35},\n",
       " {'Name': 'Pixel 2 headphone adapter', 'Price': 19.99},\n",
       " {'Name': 'Replacement laptop keyboard', 'Price': 56.05},\n",
       " {'Name': '4.4 lbs brown rice', 'Price': 34.82},\n",
       " {'Name': 'Dishwasher tablets', 'Price': 10.39},\n",
       " {'Name': 'Ethernet cable', 'Price': 7.49},\n",
       " {'Name': 'Dog poop bags', 'Price': 15.95},\n",
       " {'Name': 'Sensodyne toothpaste', 'Price': 14.76},\n",
       " {'Name': 'Deodorant 4 pk', 'Price': 16.38},\n",
       " {'Name': 'Garage door opener', 'Price': 24.5},\n",
       " {'Name': 'Massage Lacross Balls', 'Price': 9.99},\n",
       " {'Name': \"Levi's 541 Athletic fit jeans\", 'Price': 54.99},\n",
       " {'Name': 'PopSockets Collapsible Grip & stand for phone', 'Price': 9.89},\n",
       " {'Name': 'Mastering PyCharm', 'Price': 35.99},\n",
       " {'Name': 'SQL Cookbook', 'Price': 33.29},\n",
       " {'Name': 'Angler broom & dust pan', 'Price': 19.99},\n",
       " {'Name': 'LED 40 Watt light bulbs', 'Price': 16.99}]"
      ]
     },
     "execution_count": 4,
     "metadata": {},
     "output_type": "execute_result"
    }
   ],
   "source": [
    "records"
   ]
  },
  {
   "cell_type": "code",
   "execution_count": 18,
   "metadata": {},
   "outputs": [],
   "source": [
    "with open('Amazon.json', 'w') as f:\n",
    "    json.dump(records, f)"
   ]
  }
 ],
 "metadata": {
  "kernelspec": {
   "display_name": "Python [conda env:datascience]",
   "language": "python",
   "name": "conda-env-datascience-py"
  },
  "language_info": {
   "codemirror_mode": {
    "name": "ipython",
    "version": 3
   },
   "file_extension": ".py",
   "mimetype": "text/x-python",
   "name": "python",
   "nbconvert_exporter": "python",
   "pygments_lexer": "ipython3",
   "version": "3.6.4"
  },
  "varInspector": {
   "cols": {
    "lenName": 16,
    "lenType": 16,
    "lenVar": 40
   },
   "kernels_config": {
    "python": {
     "delete_cmd_postfix": "",
     "delete_cmd_prefix": "del ",
     "library": "var_list.py",
     "varRefreshCmd": "print(var_dic_list())"
    },
    "r": {
     "delete_cmd_postfix": ") ",
     "delete_cmd_prefix": "rm(",
     "library": "var_list.r",
     "varRefreshCmd": "cat(var_dic_list()) "
    }
   },
   "types_to_exclude": [
    "module",
    "function",
    "builtin_function_or_method",
    "instance",
    "_Feature"
   ],
   "window_display": false
  }
 },
 "nbformat": 4,
 "nbformat_minor": 2
}
